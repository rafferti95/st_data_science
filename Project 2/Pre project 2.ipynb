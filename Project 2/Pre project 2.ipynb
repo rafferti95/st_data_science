{
 "cells": [
  {
   "cell_type": "code",
   "execution_count": null,
   "metadata": {},
   "outputs": [],
   "source": []
  }
 ],
 "metadata": {
  "kernelspec": {
   "display_name": "Python 3",
   "language": "python",
   "name": "python3"
  },
  "language_info": {
   "name": "python",
   "version": "3.9.10"
  },
  "orig_nbformat": 4,
  "vscode": {
   "interpreter": {
    "hash": "f43c0350f7ba3512a4b792c13dac530856294ad0ad5f72400cfe467d628c3673"
   }
  }
 },
 "nbformat": 4,
 "nbformat_minor": 2
}
